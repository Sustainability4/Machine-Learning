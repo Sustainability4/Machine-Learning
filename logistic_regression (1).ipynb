{
  "nbformat": 4,
  "nbformat_minor": 0,
  "metadata": {
    "colab": {
      "name": "logistic_regression.ipynb",
      "provenance": [],
      "collapsed_sections": []
    },
    "kernelspec": {
      "name": "python3",
      "display_name": "Python 3"
    },
    "language_info": {
      "name": "python"
    },
    "gpuClass": "standard"
  },
  "cells": [
    {
      "cell_type": "code",
      "execution_count": 1,
      "metadata": {
        "id": "Z-RNZVgZlfSq"
      },
      "outputs": [],
      "source": [
        "import warnings\n",
        "warnings.filterwarnings(\"ignore\", category=FutureWarning)"
      ]
    },
    {
      "cell_type": "code",
      "source": [
        "from google.colab import drive\n",
        "drive.mount('/content/drive')"
      ],
      "metadata": {
        "colab": {
          "base_uri": "https://localhost:8080/"
        },
        "id": "H4xtl93Y8gJV",
        "outputId": "66d15b53-d990-43bb-ab3d-f4aac1a4b97a"
      },
      "execution_count": 2,
      "outputs": [
        {
          "output_type": "stream",
          "name": "stdout",
          "text": [
            "Mounted at /content/drive\n"
          ]
        }
      ]
    },
    {
      "cell_type": "code",
      "source": [
        "import pandas as pd\n",
        "import numpy as np\n",
        "import seaborn as sns\n",
        "from datetime import datetime \n",
        "import matplotlib.pyplot as plt\n",
        "# Shows plots in jupyter notebook\n",
        "%matplotlib inline\n",
        "# Set plot style\n",
        "sns.set(color_codes=True)"
      ],
      "metadata": {
        "id": "rhQoD-gmmkhh"
      },
      "execution_count": 3,
      "outputs": []
    },
    {
      "cell_type": "markdown",
      "source": [
        "Lets read the dataset that we obtained from feature engineering. This dataframe will be used for further machine learning algorithm. This is a classic churn, non-churn problem which is a classification problem. "
      ],
      "metadata": {
        "id": "IaynUzdoqPNL"
      }
    },
    {
      "cell_type": "code",
      "source": [
        "df = pd.read_pickle(\"/content/drive/MyDrive/Hamed Presentation /feature_engineering_data.pkl\")"
      ],
      "metadata": {
        "id": "JfdPIVwXmzac"
      },
      "execution_count": 4,
      "outputs": []
    },
    {
      "cell_type": "code",
      "source": [
        "df"
      ],
      "metadata": {
        "id": "W-MQj0R8qA1A",
        "colab": {
          "base_uri": "https://localhost:8080/",
          "height": 488
        },
        "outputId": "bd7b77ba-b5cd-4217-adf7-94097fe3b622"
      },
      "execution_count": 5,
      "outputs": [
        {
          "output_type": "execute_result",
          "data": {
            "text/plain": [
              "                                     id  cons_12m  cons_gas_12m  \\\n",
              "0      24011ae4ebbe3035111d65fa7c15bc57  4.268365      4.739944   \n",
              "1      d29c2c54acc38ff3c0614d0a653813dd  3.668479      0.000000   \n",
              "2      764c75f661154dac3a6c254cd082ea7d  2.736397      0.000000   \n",
              "3      bba03439a292a1e166f80264c16191cb  3.200029      0.000000   \n",
              "4      149d57cf92fc41cf94415803a877cb4b  3.646011      0.000000   \n",
              "...                                 ...       ...           ...   \n",
              "14601  18463073fb097fc0ac5d3e040f356987  4.508812      4.680707   \n",
              "14602  d0a6f71671571ed83b2645d23af6de00  3.858778      0.000000   \n",
              "14603  10e6828ddd62cbcf687cb74928c4c2d2  3.265996      0.000000   \n",
              "14604  1cf20fd6206d7678d5bcafd28c53b4db  2.120574      0.000000   \n",
              "14605  563dde550fd624d7352f3de77c0cdfcd  3.941064      0.000000   \n",
              "\n",
              "       cons_last_month  forecast_cons_12m  forecast_discount_energy  \\\n",
              "0             0.000000           3.041639                       0.0   \n",
              "1             0.000000           2.280920                       0.0   \n",
              "2             0.000000           1.689841                       0.0   \n",
              "3             0.000000           2.382089                       0.0   \n",
              "4             2.721811           2.650065                       0.0   \n",
              "...                ...                ...                       ...   \n",
              "14601         0.000000           3.667360                       0.0   \n",
              "14602         2.260071           2.801191                       0.0   \n",
              "14603         2.255273           2.281919                       0.0   \n",
              "14604         0.000000           3.058385                       0.0   \n",
              "14605         0.000000           2.882758                       0.0   \n",
              "\n",
              "       forecast_meter_rent_12m  forecast_price_energy_off_peak  \\\n",
              "0                     0.444045                        0.114481   \n",
              "1                     1.237292                        0.145711   \n",
              "2                     1.599009                        0.165794   \n",
              "3                     1.318689                        0.146694   \n",
              "4                     2.122969                        0.116900   \n",
              "...                        ...                             ...   \n",
              "14601                 1.291591                        0.138305   \n",
              "14602                 2.161458                        0.100167   \n",
              "14603                 2.115943                        0.116900   \n",
              "14604                 0.912753                        0.145711   \n",
              "14605                 0.315970                        0.167086   \n",
              "\n",
              "       forecast_price_energy_peak  forecast_price_pow_off_peak  ...  \\\n",
              "0                        0.098142                    40.606701  ...   \n",
              "1                        0.000000                    44.311378  ...   \n",
              "2                        0.087899                    44.311378  ...   \n",
              "3                        0.000000                    44.311378  ...   \n",
              "4                        0.100015                    40.606701  ...   \n",
              "...                           ...                          ...  ...   \n",
              "14601                    0.000000                    44.311378  ...   \n",
              "14602                    0.091892                    43.148907  ...   \n",
              "14603                    0.100015                    40.606701  ...   \n",
              "14604                    0.000000                    44.311378  ...   \n",
              "14605                    0.088454                    45.311378  ...   \n",
              "\n",
              "       channel_sdd  channel_usi  origin_ewx  origin_kam  origin_ldk  \\\n",
              "0                0            0           0           0           0   \n",
              "1                0            0           0           1           0   \n",
              "2                0            0           0           1           0   \n",
              "3                0            0           0           1           0   \n",
              "4                0            0           0           1           0   \n",
              "...            ...          ...         ...         ...         ...   \n",
              "14601            0            0           0           0           0   \n",
              "14602            0            0           0           0           0   \n",
              "14603            0            0           0           0           0   \n",
              "14604            0            0           0           0           0   \n",
              "14605            0            0           0           0           1   \n",
              "\n",
              "       origin_lxi  origin_usa  mean_year_price_p1  mean_year_price_p2  \\\n",
              "0               1           0           41.067053           22.452760   \n",
              "1               0           0           44.460984            0.007124   \n",
              "2               0           0           44.555962            0.088421   \n",
              "3               0           0           44.551475            0.000000   \n",
              "4               0           0           40.812330           24.516531   \n",
              "...           ...         ...                 ...                 ...   \n",
              "14601           1           0           44.514760            0.000000   \n",
              "14602           1           0           59.122473           36.488785   \n",
              "14603           1           0           40.826071           24.524832   \n",
              "14604           1           0           44.460984            0.007124   \n",
              "14605           0           0           44.435592            0.087344   \n",
              "\n",
              "       mean_year_price_p3  \n",
              "0               14.967871  \n",
              "1                0.000000  \n",
              "2                0.000000  \n",
              "3                0.000000  \n",
              "4               16.348129  \n",
              "...                   ...  \n",
              "14601            0.000000  \n",
              "14602            8.416235  \n",
              "14603           16.353854  \n",
              "14604            0.000000  \n",
              "14605            0.000000  \n",
              "\n",
              "[14606 rows x 36 columns]"
            ],
            "text/html": [
              "\n",
              "  <div id=\"df-6ebc2ac6-6f8c-42c3-9dac-3ec2de366a35\">\n",
              "    <div class=\"colab-df-container\">\n",
              "      <div>\n",
              "<style scoped>\n",
              "    .dataframe tbody tr th:only-of-type {\n",
              "        vertical-align: middle;\n",
              "    }\n",
              "\n",
              "    .dataframe tbody tr th {\n",
              "        vertical-align: top;\n",
              "    }\n",
              "\n",
              "    .dataframe thead th {\n",
              "        text-align: right;\n",
              "    }\n",
              "</style>\n",
              "<table border=\"1\" class=\"dataframe\">\n",
              "  <thead>\n",
              "    <tr style=\"text-align: right;\">\n",
              "      <th></th>\n",
              "      <th>id</th>\n",
              "      <th>cons_12m</th>\n",
              "      <th>cons_gas_12m</th>\n",
              "      <th>cons_last_month</th>\n",
              "      <th>forecast_cons_12m</th>\n",
              "      <th>forecast_discount_energy</th>\n",
              "      <th>forecast_meter_rent_12m</th>\n",
              "      <th>forecast_price_energy_off_peak</th>\n",
              "      <th>forecast_price_energy_peak</th>\n",
              "      <th>forecast_price_pow_off_peak</th>\n",
              "      <th>...</th>\n",
              "      <th>channel_sdd</th>\n",
              "      <th>channel_usi</th>\n",
              "      <th>origin_ewx</th>\n",
              "      <th>origin_kam</th>\n",
              "      <th>origin_ldk</th>\n",
              "      <th>origin_lxi</th>\n",
              "      <th>origin_usa</th>\n",
              "      <th>mean_year_price_p1</th>\n",
              "      <th>mean_year_price_p2</th>\n",
              "      <th>mean_year_price_p3</th>\n",
              "    </tr>\n",
              "  </thead>\n",
              "  <tbody>\n",
              "    <tr>\n",
              "      <th>0</th>\n",
              "      <td>24011ae4ebbe3035111d65fa7c15bc57</td>\n",
              "      <td>4.268365</td>\n",
              "      <td>4.739944</td>\n",
              "      <td>0.000000</td>\n",
              "      <td>3.041639</td>\n",
              "      <td>0.0</td>\n",
              "      <td>0.444045</td>\n",
              "      <td>0.114481</td>\n",
              "      <td>0.098142</td>\n",
              "      <td>40.606701</td>\n",
              "      <td>...</td>\n",
              "      <td>0</td>\n",
              "      <td>0</td>\n",
              "      <td>0</td>\n",
              "      <td>0</td>\n",
              "      <td>0</td>\n",
              "      <td>1</td>\n",
              "      <td>0</td>\n",
              "      <td>41.067053</td>\n",
              "      <td>22.452760</td>\n",
              "      <td>14.967871</td>\n",
              "    </tr>\n",
              "    <tr>\n",
              "      <th>1</th>\n",
              "      <td>d29c2c54acc38ff3c0614d0a653813dd</td>\n",
              "      <td>3.668479</td>\n",
              "      <td>0.000000</td>\n",
              "      <td>0.000000</td>\n",
              "      <td>2.280920</td>\n",
              "      <td>0.0</td>\n",
              "      <td>1.237292</td>\n",
              "      <td>0.145711</td>\n",
              "      <td>0.000000</td>\n",
              "      <td>44.311378</td>\n",
              "      <td>...</td>\n",
              "      <td>0</td>\n",
              "      <td>0</td>\n",
              "      <td>0</td>\n",
              "      <td>1</td>\n",
              "      <td>0</td>\n",
              "      <td>0</td>\n",
              "      <td>0</td>\n",
              "      <td>44.460984</td>\n",
              "      <td>0.007124</td>\n",
              "      <td>0.000000</td>\n",
              "    </tr>\n",
              "    <tr>\n",
              "      <th>2</th>\n",
              "      <td>764c75f661154dac3a6c254cd082ea7d</td>\n",
              "      <td>2.736397</td>\n",
              "      <td>0.000000</td>\n",
              "      <td>0.000000</td>\n",
              "      <td>1.689841</td>\n",
              "      <td>0.0</td>\n",
              "      <td>1.599009</td>\n",
              "      <td>0.165794</td>\n",
              "      <td>0.087899</td>\n",
              "      <td>44.311378</td>\n",
              "      <td>...</td>\n",
              "      <td>0</td>\n",
              "      <td>0</td>\n",
              "      <td>0</td>\n",
              "      <td>1</td>\n",
              "      <td>0</td>\n",
              "      <td>0</td>\n",
              "      <td>0</td>\n",
              "      <td>44.555962</td>\n",
              "      <td>0.088421</td>\n",
              "      <td>0.000000</td>\n",
              "    </tr>\n",
              "    <tr>\n",
              "      <th>3</th>\n",
              "      <td>bba03439a292a1e166f80264c16191cb</td>\n",
              "      <td>3.200029</td>\n",
              "      <td>0.000000</td>\n",
              "      <td>0.000000</td>\n",
              "      <td>2.382089</td>\n",
              "      <td>0.0</td>\n",
              "      <td>1.318689</td>\n",
              "      <td>0.146694</td>\n",
              "      <td>0.000000</td>\n",
              "      <td>44.311378</td>\n",
              "      <td>...</td>\n",
              "      <td>0</td>\n",
              "      <td>0</td>\n",
              "      <td>0</td>\n",
              "      <td>1</td>\n",
              "      <td>0</td>\n",
              "      <td>0</td>\n",
              "      <td>0</td>\n",
              "      <td>44.551475</td>\n",
              "      <td>0.000000</td>\n",
              "      <td>0.000000</td>\n",
              "    </tr>\n",
              "    <tr>\n",
              "      <th>4</th>\n",
              "      <td>149d57cf92fc41cf94415803a877cb4b</td>\n",
              "      <td>3.646011</td>\n",
              "      <td>0.000000</td>\n",
              "      <td>2.721811</td>\n",
              "      <td>2.650065</td>\n",
              "      <td>0.0</td>\n",
              "      <td>2.122969</td>\n",
              "      <td>0.116900</td>\n",
              "      <td>0.100015</td>\n",
              "      <td>40.606701</td>\n",
              "      <td>...</td>\n",
              "      <td>0</td>\n",
              "      <td>0</td>\n",
              "      <td>0</td>\n",
              "      <td>1</td>\n",
              "      <td>0</td>\n",
              "      <td>0</td>\n",
              "      <td>0</td>\n",
              "      <td>40.812330</td>\n",
              "      <td>24.516531</td>\n",
              "      <td>16.348129</td>\n",
              "    </tr>\n",
              "    <tr>\n",
              "      <th>...</th>\n",
              "      <td>...</td>\n",
              "      <td>...</td>\n",
              "      <td>...</td>\n",
              "      <td>...</td>\n",
              "      <td>...</td>\n",
              "      <td>...</td>\n",
              "      <td>...</td>\n",
              "      <td>...</td>\n",
              "      <td>...</td>\n",
              "      <td>...</td>\n",
              "      <td>...</td>\n",
              "      <td>...</td>\n",
              "      <td>...</td>\n",
              "      <td>...</td>\n",
              "      <td>...</td>\n",
              "      <td>...</td>\n",
              "      <td>...</td>\n",
              "      <td>...</td>\n",
              "      <td>...</td>\n",
              "      <td>...</td>\n",
              "      <td>...</td>\n",
              "    </tr>\n",
              "    <tr>\n",
              "      <th>14601</th>\n",
              "      <td>18463073fb097fc0ac5d3e040f356987</td>\n",
              "      <td>4.508812</td>\n",
              "      <td>4.680707</td>\n",
              "      <td>0.000000</td>\n",
              "      <td>3.667360</td>\n",
              "      <td>0.0</td>\n",
              "      <td>1.291591</td>\n",
              "      <td>0.138305</td>\n",
              "      <td>0.000000</td>\n",
              "      <td>44.311378</td>\n",
              "      <td>...</td>\n",
              "      <td>0</td>\n",
              "      <td>0</td>\n",
              "      <td>0</td>\n",
              "      <td>0</td>\n",
              "      <td>0</td>\n",
              "      <td>1</td>\n",
              "      <td>0</td>\n",
              "      <td>44.514760</td>\n",
              "      <td>0.000000</td>\n",
              "      <td>0.000000</td>\n",
              "    </tr>\n",
              "    <tr>\n",
              "      <th>14602</th>\n",
              "      <td>d0a6f71671571ed83b2645d23af6de00</td>\n",
              "      <td>3.858778</td>\n",
              "      <td>0.000000</td>\n",
              "      <td>2.260071</td>\n",
              "      <td>2.801191</td>\n",
              "      <td>0.0</td>\n",
              "      <td>2.161458</td>\n",
              "      <td>0.100167</td>\n",
              "      <td>0.091892</td>\n",
              "      <td>43.148907</td>\n",
              "      <td>...</td>\n",
              "      <td>0</td>\n",
              "      <td>0</td>\n",
              "      <td>0</td>\n",
              "      <td>0</td>\n",
              "      <td>0</td>\n",
              "      <td>1</td>\n",
              "      <td>0</td>\n",
              "      <td>59.122473</td>\n",
              "      <td>36.488785</td>\n",
              "      <td>8.416235</td>\n",
              "    </tr>\n",
              "    <tr>\n",
              "      <th>14603</th>\n",
              "      <td>10e6828ddd62cbcf687cb74928c4c2d2</td>\n",
              "      <td>3.265996</td>\n",
              "      <td>0.000000</td>\n",
              "      <td>2.255273</td>\n",
              "      <td>2.281919</td>\n",
              "      <td>0.0</td>\n",
              "      <td>2.115943</td>\n",
              "      <td>0.116900</td>\n",
              "      <td>0.100015</td>\n",
              "      <td>40.606701</td>\n",
              "      <td>...</td>\n",
              "      <td>0</td>\n",
              "      <td>0</td>\n",
              "      <td>0</td>\n",
              "      <td>0</td>\n",
              "      <td>0</td>\n",
              "      <td>1</td>\n",
              "      <td>0</td>\n",
              "      <td>40.826071</td>\n",
              "      <td>24.524832</td>\n",
              "      <td>16.353854</td>\n",
              "    </tr>\n",
              "    <tr>\n",
              "      <th>14604</th>\n",
              "      <td>1cf20fd6206d7678d5bcafd28c53b4db</td>\n",
              "      <td>2.120574</td>\n",
              "      <td>0.000000</td>\n",
              "      <td>0.000000</td>\n",
              "      <td>3.058385</td>\n",
              "      <td>0.0</td>\n",
              "      <td>0.912753</td>\n",
              "      <td>0.145711</td>\n",
              "      <td>0.000000</td>\n",
              "      <td>44.311378</td>\n",
              "      <td>...</td>\n",
              "      <td>0</td>\n",
              "      <td>0</td>\n",
              "      <td>0</td>\n",
              "      <td>0</td>\n",
              "      <td>0</td>\n",
              "      <td>1</td>\n",
              "      <td>0</td>\n",
              "      <td>44.460984</td>\n",
              "      <td>0.007124</td>\n",
              "      <td>0.000000</td>\n",
              "    </tr>\n",
              "    <tr>\n",
              "      <th>14605</th>\n",
              "      <td>563dde550fd624d7352f3de77c0cdfcd</td>\n",
              "      <td>3.941064</td>\n",
              "      <td>0.000000</td>\n",
              "      <td>0.000000</td>\n",
              "      <td>2.882758</td>\n",
              "      <td>0.0</td>\n",
              "      <td>0.315970</td>\n",
              "      <td>0.167086</td>\n",
              "      <td>0.088454</td>\n",
              "      <td>45.311378</td>\n",
              "      <td>...</td>\n",
              "      <td>0</td>\n",
              "      <td>0</td>\n",
              "      <td>0</td>\n",
              "      <td>0</td>\n",
              "      <td>1</td>\n",
              "      <td>0</td>\n",
              "      <td>0</td>\n",
              "      <td>44.435592</td>\n",
              "      <td>0.087344</td>\n",
              "      <td>0.000000</td>\n",
              "    </tr>\n",
              "  </tbody>\n",
              "</table>\n",
              "<p>14606 rows × 36 columns</p>\n",
              "</div>\n",
              "      <button class=\"colab-df-convert\" onclick=\"convertToInteractive('df-6ebc2ac6-6f8c-42c3-9dac-3ec2de366a35')\"\n",
              "              title=\"Convert this dataframe to an interactive table.\"\n",
              "              style=\"display:none;\">\n",
              "        \n",
              "  <svg xmlns=\"http://www.w3.org/2000/svg\" height=\"24px\"viewBox=\"0 0 24 24\"\n",
              "       width=\"24px\">\n",
              "    <path d=\"M0 0h24v24H0V0z\" fill=\"none\"/>\n",
              "    <path d=\"M18.56 5.44l.94 2.06.94-2.06 2.06-.94-2.06-.94-.94-2.06-.94 2.06-2.06.94zm-11 1L8.5 8.5l.94-2.06 2.06-.94-2.06-.94L8.5 2.5l-.94 2.06-2.06.94zm10 10l.94 2.06.94-2.06 2.06-.94-2.06-.94-.94-2.06-.94 2.06-2.06.94z\"/><path d=\"M17.41 7.96l-1.37-1.37c-.4-.4-.92-.59-1.43-.59-.52 0-1.04.2-1.43.59L10.3 9.45l-7.72 7.72c-.78.78-.78 2.05 0 2.83L4 21.41c.39.39.9.59 1.41.59.51 0 1.02-.2 1.41-.59l7.78-7.78 2.81-2.81c.8-.78.8-2.07 0-2.86zM5.41 20L4 18.59l7.72-7.72 1.47 1.35L5.41 20z\"/>\n",
              "  </svg>\n",
              "      </button>\n",
              "      \n",
              "  <style>\n",
              "    .colab-df-container {\n",
              "      display:flex;\n",
              "      flex-wrap:wrap;\n",
              "      gap: 12px;\n",
              "    }\n",
              "\n",
              "    .colab-df-convert {\n",
              "      background-color: #E8F0FE;\n",
              "      border: none;\n",
              "      border-radius: 50%;\n",
              "      cursor: pointer;\n",
              "      display: none;\n",
              "      fill: #1967D2;\n",
              "      height: 32px;\n",
              "      padding: 0 0 0 0;\n",
              "      width: 32px;\n",
              "    }\n",
              "\n",
              "    .colab-df-convert:hover {\n",
              "      background-color: #E2EBFA;\n",
              "      box-shadow: 0px 1px 2px rgba(60, 64, 67, 0.3), 0px 1px 3px 1px rgba(60, 64, 67, 0.15);\n",
              "      fill: #174EA6;\n",
              "    }\n",
              "\n",
              "    [theme=dark] .colab-df-convert {\n",
              "      background-color: #3B4455;\n",
              "      fill: #D2E3FC;\n",
              "    }\n",
              "\n",
              "    [theme=dark] .colab-df-convert:hover {\n",
              "      background-color: #434B5C;\n",
              "      box-shadow: 0px 1px 3px 1px rgba(0, 0, 0, 0.15);\n",
              "      filter: drop-shadow(0px 1px 2px rgba(0, 0, 0, 0.3));\n",
              "      fill: #FFFFFF;\n",
              "    }\n",
              "  </style>\n",
              "\n",
              "      <script>\n",
              "        const buttonEl =\n",
              "          document.querySelector('#df-6ebc2ac6-6f8c-42c3-9dac-3ec2de366a35 button.colab-df-convert');\n",
              "        buttonEl.style.display =\n",
              "          google.colab.kernel.accessAllowed ? 'block' : 'none';\n",
              "\n",
              "        async function convertToInteractive(key) {\n",
              "          const element = document.querySelector('#df-6ebc2ac6-6f8c-42c3-9dac-3ec2de366a35');\n",
              "          const dataTable =\n",
              "            await google.colab.kernel.invokeFunction('convertToInteractive',\n",
              "                                                     [key], {});\n",
              "          if (!dataTable) return;\n",
              "\n",
              "          const docLinkHtml = 'Like what you see? Visit the ' +\n",
              "            '<a target=\"_blank\" href=https://colab.research.google.com/notebooks/data_table.ipynb>data table notebook</a>'\n",
              "            + ' to learn more about interactive tables.';\n",
              "          element.innerHTML = '';\n",
              "          dataTable['output_type'] = 'display_data';\n",
              "          await google.colab.output.renderOutput(dataTable, element);\n",
              "          const docLink = document.createElement('div');\n",
              "          docLink.innerHTML = docLinkHtml;\n",
              "          element.appendChild(docLink);\n",
              "        }\n",
              "      </script>\n",
              "    </div>\n",
              "  </div>\n",
              "  "
            ]
          },
          "metadata": {},
          "execution_count": 5
        }
      ]
    },
    {
      "cell_type": "code",
      "source": [
        "df.info()"
      ],
      "metadata": {
        "colab": {
          "base_uri": "https://localhost:8080/"
        },
        "id": "DFeaWA6X-hUI",
        "outputId": "1c674ef3-5eda-495d-f66f-2e7cca15638a"
      },
      "execution_count": 6,
      "outputs": [
        {
          "output_type": "stream",
          "name": "stdout",
          "text": [
            "<class 'pandas.core.frame.DataFrame'>\n",
            "Int64Index: 14606 entries, 0 to 14605\n",
            "Data columns (total 36 columns):\n",
            " #   Column                          Non-Null Count  Dtype  \n",
            "---  ------                          --------------  -----  \n",
            " 0   id                              14606 non-null  object \n",
            " 1   cons_12m                        14606 non-null  float64\n",
            " 2   cons_gas_12m                    14606 non-null  float64\n",
            " 3   cons_last_month                 14606 non-null  float64\n",
            " 4   forecast_cons_12m               14606 non-null  float64\n",
            " 5   forecast_discount_energy        14606 non-null  float64\n",
            " 6   forecast_meter_rent_12m         14606 non-null  float64\n",
            " 7   forecast_price_energy_off_peak  14606 non-null  float64\n",
            " 8   forecast_price_energy_peak      14606 non-null  float64\n",
            " 9   forecast_price_pow_off_peak     14606 non-null  float64\n",
            " 10  has_gas                         14606 non-null  int64  \n",
            " 11  imp_cons                        14606 non-null  float64\n",
            " 12  margin_gross_pow_ele            14606 non-null  float64\n",
            " 13  nb_prod_act                     14606 non-null  int64  \n",
            " 14  net_margin                      14606 non-null  float64\n",
            " 15  pow_max                         14606 non-null  float64\n",
            " 16  churn                           14606 non-null  int64  \n",
            " 17  tenure                          14606 non-null  int64  \n",
            " 18  months_to_end                   14606 non-null  float64\n",
            " 19  months_modif_prod               14606 non-null  float64\n",
            " 20  months_renewal                  14606 non-null  float64\n",
            " 21  channel_epu                     14606 non-null  uint8  \n",
            " 22  channel_ewp                     14606 non-null  uint8  \n",
            " 23  channel_fix                     14606 non-null  uint8  \n",
            " 24  channel_foo                     14606 non-null  uint8  \n",
            " 25  channel_lmk                     14606 non-null  uint8  \n",
            " 26  channel_sdd                     14606 non-null  uint8  \n",
            " 27  channel_usi                     14606 non-null  uint8  \n",
            " 28  origin_ewx                      14606 non-null  uint8  \n",
            " 29  origin_kam                      14606 non-null  uint8  \n",
            " 30  origin_ldk                      14606 non-null  uint8  \n",
            " 31  origin_lxi                      14606 non-null  uint8  \n",
            " 32  origin_usa                      14606 non-null  uint8  \n",
            " 33  mean_year_price_p1              14606 non-null  float64\n",
            " 34  mean_year_price_p2              14606 non-null  float64\n",
            " 35  mean_year_price_p3              14606 non-null  float64\n",
            "dtypes: float64(19), int64(4), object(1), uint8(12)\n",
            "memory usage: 3.0+ MB\n"
          ]
        }
      ]
    },
    {
      "cell_type": "code",
      "source": [
        "df.describe()"
      ],
      "metadata": {
        "colab": {
          "base_uri": "https://localhost:8080/",
          "height": 394
        },
        "id": "3-yUarDV_H6i",
        "outputId": "bc51c99e-93a8-459d-c768-e0191d1c065f"
      },
      "execution_count": 7,
      "outputs": [
        {
          "output_type": "execute_result",
          "data": {
            "text/plain": [
              "           cons_12m  cons_gas_12m  cons_last_month  forecast_cons_12m  \\\n",
              "count  14606.000000  14606.000000     14606.000000       14606.000000   \n",
              "mean       4.257608      0.658155         2.264646           3.058385   \n",
              "std        0.750485      1.524138         1.769305           0.454794   \n",
              "min        1.934498      0.000000         0.000000           1.579212   \n",
              "25%        3.775100      0.000000         0.000000           2.754021   \n",
              "50%        4.167775      0.000000         2.899547           3.058385   \n",
              "75%        4.597146      0.000000         3.529430           3.379956   \n",
              "max        6.601155      5.544051         5.887169           4.496211   \n",
              "\n",
              "       forecast_discount_energy  forecast_meter_rent_12m  \\\n",
              "count              14606.000000             14606.000000   \n",
              "mean                   0.000037                 1.517203   \n",
              "std                    0.000195                 0.571481   \n",
              "min                    0.000000                 0.000000   \n",
              "25%                    0.000000                 1.235023   \n",
              "50%                    0.000000                 1.296555   \n",
              "75%                    0.000000                 2.120673   \n",
              "max                    0.001064                 2.778376   \n",
              "\n",
              "       forecast_price_energy_off_peak  forecast_price_energy_peak  \\\n",
              "count                    14606.000000                14606.000000   \n",
              "mean                         0.137140                    0.050491   \n",
              "std                          0.019310                    0.049037   \n",
              "min                          0.092453                    0.000000   \n",
              "25%                          0.116509                    0.000000   \n",
              "50%                          0.143166                    0.084138   \n",
              "75%                          0.146348                    0.098837   \n",
              "max                          0.210689                    0.195975   \n",
              "\n",
              "       forecast_price_pow_off_peak       has_gas  ...   channel_sdd  \\\n",
              "count                 14606.000000  14606.000000  ...  14606.000000   \n",
              "mean                     43.148907      0.181501  ...      0.000753   \n",
              "std                       2.002965      0.385446  ...      0.027434   \n",
              "min                      35.555768      0.000000  ...      0.000000   \n",
              "25%                      40.606701      0.000000  ...      0.000000   \n",
              "50%                      44.311378      0.000000  ...      0.000000   \n",
              "75%                      44.311378      0.000000  ...      0.000000   \n",
              "max                      53.284378      1.000000  ...      1.000000   \n",
              "\n",
              "        channel_usi    origin_ewx    origin_kam    origin_ldk    origin_lxi  \\\n",
              "count  14606.000000  14606.000000  14606.000000  14606.000000  14606.000000   \n",
              "mean       0.094139      0.000068      0.293989      0.215528      0.485896   \n",
              "std        0.292033      0.008274      0.455602      0.411202      0.499818   \n",
              "min        0.000000      0.000000      0.000000      0.000000      0.000000   \n",
              "25%        0.000000      0.000000      0.000000      0.000000      0.000000   \n",
              "50%        0.000000      0.000000      0.000000      0.000000      0.000000   \n",
              "75%        0.000000      0.000000      1.000000      0.000000      1.000000   \n",
              "max        1.000000      1.000000      1.000000      1.000000      1.000000   \n",
              "\n",
              "         origin_usa  mean_year_price_p1  mean_year_price_p2  \\\n",
              "count  14606.000000        14606.000000        14606.000000   \n",
              "mean       0.000137           43.384964            9.512937   \n",
              "std        0.011701            2.719731           12.094056   \n",
              "min        0.000000           30.677807            0.000000   \n",
              "25%        0.000000           40.815953            0.000000   \n",
              "50%        0.000000           44.436808            0.084588   \n",
              "75%        0.000000           44.519593           24.477135   \n",
              "max        1.000000           59.504483           36.587507   \n",
              "\n",
              "       mean_year_price_p3  \n",
              "count        14606.000000  \n",
              "mean             6.125956  \n",
              "std              7.806248  \n",
              "min              0.000000  \n",
              "25%              0.000000  \n",
              "50%              0.000000  \n",
              "75%             16.320634  \n",
              "max             16.911504  \n",
              "\n",
              "[8 rows x 35 columns]"
            ],
            "text/html": [
              "\n",
              "  <div id=\"df-4fe68716-dd1c-4a83-a54b-2072b6378da6\">\n",
              "    <div class=\"colab-df-container\">\n",
              "      <div>\n",
              "<style scoped>\n",
              "    .dataframe tbody tr th:only-of-type {\n",
              "        vertical-align: middle;\n",
              "    }\n",
              "\n",
              "    .dataframe tbody tr th {\n",
              "        vertical-align: top;\n",
              "    }\n",
              "\n",
              "    .dataframe thead th {\n",
              "        text-align: right;\n",
              "    }\n",
              "</style>\n",
              "<table border=\"1\" class=\"dataframe\">\n",
              "  <thead>\n",
              "    <tr style=\"text-align: right;\">\n",
              "      <th></th>\n",
              "      <th>cons_12m</th>\n",
              "      <th>cons_gas_12m</th>\n",
              "      <th>cons_last_month</th>\n",
              "      <th>forecast_cons_12m</th>\n",
              "      <th>forecast_discount_energy</th>\n",
              "      <th>forecast_meter_rent_12m</th>\n",
              "      <th>forecast_price_energy_off_peak</th>\n",
              "      <th>forecast_price_energy_peak</th>\n",
              "      <th>forecast_price_pow_off_peak</th>\n",
              "      <th>has_gas</th>\n",
              "      <th>...</th>\n",
              "      <th>channel_sdd</th>\n",
              "      <th>channel_usi</th>\n",
              "      <th>origin_ewx</th>\n",
              "      <th>origin_kam</th>\n",
              "      <th>origin_ldk</th>\n",
              "      <th>origin_lxi</th>\n",
              "      <th>origin_usa</th>\n",
              "      <th>mean_year_price_p1</th>\n",
              "      <th>mean_year_price_p2</th>\n",
              "      <th>mean_year_price_p3</th>\n",
              "    </tr>\n",
              "  </thead>\n",
              "  <tbody>\n",
              "    <tr>\n",
              "      <th>count</th>\n",
              "      <td>14606.000000</td>\n",
              "      <td>14606.000000</td>\n",
              "      <td>14606.000000</td>\n",
              "      <td>14606.000000</td>\n",
              "      <td>14606.000000</td>\n",
              "      <td>14606.000000</td>\n",
              "      <td>14606.000000</td>\n",
              "      <td>14606.000000</td>\n",
              "      <td>14606.000000</td>\n",
              "      <td>14606.000000</td>\n",
              "      <td>...</td>\n",
              "      <td>14606.000000</td>\n",
              "      <td>14606.000000</td>\n",
              "      <td>14606.000000</td>\n",
              "      <td>14606.000000</td>\n",
              "      <td>14606.000000</td>\n",
              "      <td>14606.000000</td>\n",
              "      <td>14606.000000</td>\n",
              "      <td>14606.000000</td>\n",
              "      <td>14606.000000</td>\n",
              "      <td>14606.000000</td>\n",
              "    </tr>\n",
              "    <tr>\n",
              "      <th>mean</th>\n",
              "      <td>4.257608</td>\n",
              "      <td>0.658155</td>\n",
              "      <td>2.264646</td>\n",
              "      <td>3.058385</td>\n",
              "      <td>0.000037</td>\n",
              "      <td>1.517203</td>\n",
              "      <td>0.137140</td>\n",
              "      <td>0.050491</td>\n",
              "      <td>43.148907</td>\n",
              "      <td>0.181501</td>\n",
              "      <td>...</td>\n",
              "      <td>0.000753</td>\n",
              "      <td>0.094139</td>\n",
              "      <td>0.000068</td>\n",
              "      <td>0.293989</td>\n",
              "      <td>0.215528</td>\n",
              "      <td>0.485896</td>\n",
              "      <td>0.000137</td>\n",
              "      <td>43.384964</td>\n",
              "      <td>9.512937</td>\n",
              "      <td>6.125956</td>\n",
              "    </tr>\n",
              "    <tr>\n",
              "      <th>std</th>\n",
              "      <td>0.750485</td>\n",
              "      <td>1.524138</td>\n",
              "      <td>1.769305</td>\n",
              "      <td>0.454794</td>\n",
              "      <td>0.000195</td>\n",
              "      <td>0.571481</td>\n",
              "      <td>0.019310</td>\n",
              "      <td>0.049037</td>\n",
              "      <td>2.002965</td>\n",
              "      <td>0.385446</td>\n",
              "      <td>...</td>\n",
              "      <td>0.027434</td>\n",
              "      <td>0.292033</td>\n",
              "      <td>0.008274</td>\n",
              "      <td>0.455602</td>\n",
              "      <td>0.411202</td>\n",
              "      <td>0.499818</td>\n",
              "      <td>0.011701</td>\n",
              "      <td>2.719731</td>\n",
              "      <td>12.094056</td>\n",
              "      <td>7.806248</td>\n",
              "    </tr>\n",
              "    <tr>\n",
              "      <th>min</th>\n",
              "      <td>1.934498</td>\n",
              "      <td>0.000000</td>\n",
              "      <td>0.000000</td>\n",
              "      <td>1.579212</td>\n",
              "      <td>0.000000</td>\n",
              "      <td>0.000000</td>\n",
              "      <td>0.092453</td>\n",
              "      <td>0.000000</td>\n",
              "      <td>35.555768</td>\n",
              "      <td>0.000000</td>\n",
              "      <td>...</td>\n",
              "      <td>0.000000</td>\n",
              "      <td>0.000000</td>\n",
              "      <td>0.000000</td>\n",
              "      <td>0.000000</td>\n",
              "      <td>0.000000</td>\n",
              "      <td>0.000000</td>\n",
              "      <td>0.000000</td>\n",
              "      <td>30.677807</td>\n",
              "      <td>0.000000</td>\n",
              "      <td>0.000000</td>\n",
              "    </tr>\n",
              "    <tr>\n",
              "      <th>25%</th>\n",
              "      <td>3.775100</td>\n",
              "      <td>0.000000</td>\n",
              "      <td>0.000000</td>\n",
              "      <td>2.754021</td>\n",
              "      <td>0.000000</td>\n",
              "      <td>1.235023</td>\n",
              "      <td>0.116509</td>\n",
              "      <td>0.000000</td>\n",
              "      <td>40.606701</td>\n",
              "      <td>0.000000</td>\n",
              "      <td>...</td>\n",
              "      <td>0.000000</td>\n",
              "      <td>0.000000</td>\n",
              "      <td>0.000000</td>\n",
              "      <td>0.000000</td>\n",
              "      <td>0.000000</td>\n",
              "      <td>0.000000</td>\n",
              "      <td>0.000000</td>\n",
              "      <td>40.815953</td>\n",
              "      <td>0.000000</td>\n",
              "      <td>0.000000</td>\n",
              "    </tr>\n",
              "    <tr>\n",
              "      <th>50%</th>\n",
              "      <td>4.167775</td>\n",
              "      <td>0.000000</td>\n",
              "      <td>2.899547</td>\n",
              "      <td>3.058385</td>\n",
              "      <td>0.000000</td>\n",
              "      <td>1.296555</td>\n",
              "      <td>0.143166</td>\n",
              "      <td>0.084138</td>\n",
              "      <td>44.311378</td>\n",
              "      <td>0.000000</td>\n",
              "      <td>...</td>\n",
              "      <td>0.000000</td>\n",
              "      <td>0.000000</td>\n",
              "      <td>0.000000</td>\n",
              "      <td>0.000000</td>\n",
              "      <td>0.000000</td>\n",
              "      <td>0.000000</td>\n",
              "      <td>0.000000</td>\n",
              "      <td>44.436808</td>\n",
              "      <td>0.084588</td>\n",
              "      <td>0.000000</td>\n",
              "    </tr>\n",
              "    <tr>\n",
              "      <th>75%</th>\n",
              "      <td>4.597146</td>\n",
              "      <td>0.000000</td>\n",
              "      <td>3.529430</td>\n",
              "      <td>3.379956</td>\n",
              "      <td>0.000000</td>\n",
              "      <td>2.120673</td>\n",
              "      <td>0.146348</td>\n",
              "      <td>0.098837</td>\n",
              "      <td>44.311378</td>\n",
              "      <td>0.000000</td>\n",
              "      <td>...</td>\n",
              "      <td>0.000000</td>\n",
              "      <td>0.000000</td>\n",
              "      <td>0.000000</td>\n",
              "      <td>1.000000</td>\n",
              "      <td>0.000000</td>\n",
              "      <td>1.000000</td>\n",
              "      <td>0.000000</td>\n",
              "      <td>44.519593</td>\n",
              "      <td>24.477135</td>\n",
              "      <td>16.320634</td>\n",
              "    </tr>\n",
              "    <tr>\n",
              "      <th>max</th>\n",
              "      <td>6.601155</td>\n",
              "      <td>5.544051</td>\n",
              "      <td>5.887169</td>\n",
              "      <td>4.496211</td>\n",
              "      <td>0.001064</td>\n",
              "      <td>2.778376</td>\n",
              "      <td>0.210689</td>\n",
              "      <td>0.195975</td>\n",
              "      <td>53.284378</td>\n",
              "      <td>1.000000</td>\n",
              "      <td>...</td>\n",
              "      <td>1.000000</td>\n",
              "      <td>1.000000</td>\n",
              "      <td>1.000000</td>\n",
              "      <td>1.000000</td>\n",
              "      <td>1.000000</td>\n",
              "      <td>1.000000</td>\n",
              "      <td>1.000000</td>\n",
              "      <td>59.504483</td>\n",
              "      <td>36.587507</td>\n",
              "      <td>16.911504</td>\n",
              "    </tr>\n",
              "  </tbody>\n",
              "</table>\n",
              "<p>8 rows × 35 columns</p>\n",
              "</div>\n",
              "      <button class=\"colab-df-convert\" onclick=\"convertToInteractive('df-4fe68716-dd1c-4a83-a54b-2072b6378da6')\"\n",
              "              title=\"Convert this dataframe to an interactive table.\"\n",
              "              style=\"display:none;\">\n",
              "        \n",
              "  <svg xmlns=\"http://www.w3.org/2000/svg\" height=\"24px\"viewBox=\"0 0 24 24\"\n",
              "       width=\"24px\">\n",
              "    <path d=\"M0 0h24v24H0V0z\" fill=\"none\"/>\n",
              "    <path d=\"M18.56 5.44l.94 2.06.94-2.06 2.06-.94-2.06-.94-.94-2.06-.94 2.06-2.06.94zm-11 1L8.5 8.5l.94-2.06 2.06-.94-2.06-.94L8.5 2.5l-.94 2.06-2.06.94zm10 10l.94 2.06.94-2.06 2.06-.94-2.06-.94-.94-2.06-.94 2.06-2.06.94z\"/><path d=\"M17.41 7.96l-1.37-1.37c-.4-.4-.92-.59-1.43-.59-.52 0-1.04.2-1.43.59L10.3 9.45l-7.72 7.72c-.78.78-.78 2.05 0 2.83L4 21.41c.39.39.9.59 1.41.59.51 0 1.02-.2 1.41-.59l7.78-7.78 2.81-2.81c.8-.78.8-2.07 0-2.86zM5.41 20L4 18.59l7.72-7.72 1.47 1.35L5.41 20z\"/>\n",
              "  </svg>\n",
              "      </button>\n",
              "      \n",
              "  <style>\n",
              "    .colab-df-container {\n",
              "      display:flex;\n",
              "      flex-wrap:wrap;\n",
              "      gap: 12px;\n",
              "    }\n",
              "\n",
              "    .colab-df-convert {\n",
              "      background-color: #E8F0FE;\n",
              "      border: none;\n",
              "      border-radius: 50%;\n",
              "      cursor: pointer;\n",
              "      display: none;\n",
              "      fill: #1967D2;\n",
              "      height: 32px;\n",
              "      padding: 0 0 0 0;\n",
              "      width: 32px;\n",
              "    }\n",
              "\n",
              "    .colab-df-convert:hover {\n",
              "      background-color: #E2EBFA;\n",
              "      box-shadow: 0px 1px 2px rgba(60, 64, 67, 0.3), 0px 1px 3px 1px rgba(60, 64, 67, 0.15);\n",
              "      fill: #174EA6;\n",
              "    }\n",
              "\n",
              "    [theme=dark] .colab-df-convert {\n",
              "      background-color: #3B4455;\n",
              "      fill: #D2E3FC;\n",
              "    }\n",
              "\n",
              "    [theme=dark] .colab-df-convert:hover {\n",
              "      background-color: #434B5C;\n",
              "      box-shadow: 0px 1px 3px 1px rgba(0, 0, 0, 0.15);\n",
              "      filter: drop-shadow(0px 1px 2px rgba(0, 0, 0, 0.3));\n",
              "      fill: #FFFFFF;\n",
              "    }\n",
              "  </style>\n",
              "\n",
              "      <script>\n",
              "        const buttonEl =\n",
              "          document.querySelector('#df-4fe68716-dd1c-4a83-a54b-2072b6378da6 button.colab-df-convert');\n",
              "        buttonEl.style.display =\n",
              "          google.colab.kernel.accessAllowed ? 'block' : 'none';\n",
              "\n",
              "        async function convertToInteractive(key) {\n",
              "          const element = document.querySelector('#df-4fe68716-dd1c-4a83-a54b-2072b6378da6');\n",
              "          const dataTable =\n",
              "            await google.colab.kernel.invokeFunction('convertToInteractive',\n",
              "                                                     [key], {});\n",
              "          if (!dataTable) return;\n",
              "\n",
              "          const docLinkHtml = 'Like what you see? Visit the ' +\n",
              "            '<a target=\"_blank\" href=https://colab.research.google.com/notebooks/data_table.ipynb>data table notebook</a>'\n",
              "            + ' to learn more about interactive tables.';\n",
              "          element.innerHTML = '';\n",
              "          dataTable['output_type'] = 'display_data';\n",
              "          await google.colab.output.renderOutput(dataTable, element);\n",
              "          const docLink = document.createElement('div');\n",
              "          docLink.innerHTML = docLinkHtml;\n",
              "          element.appendChild(docLink);\n",
              "        }\n",
              "      </script>\n",
              "    </div>\n",
              "  </div>\n",
              "  "
            ]
          },
          "metadata": {},
          "execution_count": 7
        }
      ]
    },
    {
      "cell_type": "markdown",
      "source": [
        "## Priority 1 : Logistic Regression \n",
        "\n",
        "Lets go for the basic algorithm first. There are three presumptions for logistic regression to be applied, \n",
        "\n",
        "1. The data should be linearly separable \n",
        "2. No multicolinearity in data \n",
        "3. Binary and dichotomous classification \n",
        "4. Large sample "
      ],
      "metadata": {
        "id": "NW0Yww1R83bZ"
      }
    },
    {
      "cell_type": "markdown",
      "source": [
        "Do check this Kaggle notebook : https://www.kaggle.com/code/prashant111/logistic-regression-classifier-tutorial/notebook"
      ],
      "metadata": {
        "id": "7nWBrlRfDLXo"
      }
    },
    {
      "cell_type": "code",
      "source": [
        "# split X and y into training and testing sets\n",
        "\n",
        "from sklearn.model_selection import train_test_split\n",
        "X = df.drop([\"churn\",\"id\"], axis = 1)\n",
        "y = df[\"churn\"]\n",
        "X_train, X_test, y_train, y_test = train_test_split(X, y, test_size = 0.2, random_state = 0)"
      ],
      "metadata": {
        "id": "5U38wqPI81lI"
      },
      "execution_count": 8,
      "outputs": []
    },
    {
      "cell_type": "code",
      "source": [
        "# check the shape of X_train and X_test\n",
        "\n",
        "X_train.shape, X_test.shape"
      ],
      "metadata": {
        "colab": {
          "base_uri": "https://localhost:8080/"
        },
        "id": "b6j0L3Ye-rux",
        "outputId": "17938b53-af5c-4cb7-9ab8-b947d6501360"
      },
      "execution_count": 9,
      "outputs": [
        {
          "output_type": "execute_result",
          "data": {
            "text/plain": [
              "((11684, 34), (2922, 34))"
            ]
          },
          "metadata": {},
          "execution_count": 9
        }
      ]
    },
    {
      "cell_type": "code",
      "source": [
        "X_test.shape"
      ],
      "metadata": {
        "colab": {
          "base_uri": "https://localhost:8080/"
        },
        "id": "sVik2JVNOOex",
        "outputId": "dc9ce1c2-4b90-4334-8aa0-7a70f25623fa"
      },
      "execution_count": 10,
      "outputs": [
        {
          "output_type": "execute_result",
          "data": {
            "text/plain": [
              "(2922, 34)"
            ]
          },
          "metadata": {},
          "execution_count": 10
        }
      ]
    },
    {
      "cell_type": "code",
      "source": [
        "cols = X_train.columns"
      ],
      "metadata": {
        "id": "Iny2wRCT_2qA"
      },
      "execution_count": 11,
      "outputs": []
    },
    {
      "cell_type": "markdown",
      "source": [
        "https://www.geeksforgeeks.org/data-pre-processing-wit-sklearn-using-standard-and-minmax-scaler/#:~:text=MinMax%20Scaler%20shrinks%20the%20data,shape%20of%20the%20original%20distribution."
      ],
      "metadata": {
        "id": "7SgtyW9jPPwZ"
      }
    },
    {
      "cell_type": "code",
      "source": [
        "from sklearn.preprocessing import MinMaxScaler\n",
        "\n",
        "scaler = MinMaxScaler()\n",
        "\n",
        "X_train = scaler.fit_transform(X_train)\n",
        "\n",
        "X_test = scaler.transform(X_test)"
      ],
      "metadata": {
        "id": "jz7lwHsQ-tVT"
      },
      "execution_count": 12,
      "outputs": []
    },
    {
      "cell_type": "code",
      "source": [
        "X_train = pd.DataFrame(X_train, columns=[cols])"
      ],
      "metadata": {
        "id": "5dYkhLLb_TXq"
      },
      "execution_count": 13,
      "outputs": []
    },
    {
      "cell_type": "code",
      "source": [
        "X_test = pd.DataFrame(X_test, columns=[cols])"
      ],
      "metadata": {
        "id": "fWwh3SKl_xzu"
      },
      "execution_count": 14,
      "outputs": []
    },
    {
      "cell_type": "code",
      "source": [
        "X_train.describe()"
      ],
      "metadata": {
        "colab": {
          "base_uri": "https://localhost:8080/",
          "height": 394
        },
        "id": "Q7RVSHg__9Kp",
        "outputId": "b352c2f6-46ef-4848-ca20-8c1c91d367a3"
      },
      "execution_count": 15,
      "outputs": [
        {
          "output_type": "execute_result",
          "data": {
            "text/plain": [
              "           cons_12m  cons_gas_12m cons_last_month forecast_cons_12m  \\\n",
              "count  11684.000000  11684.000000    11684.000000      11684.000000   \n",
              "mean       0.498924      0.118630        0.386279          0.507835   \n",
              "std        0.160650      0.275051        0.300253          0.156548   \n",
              "min        0.000000      0.000000        0.000000          0.000000   \n",
              "25%        0.394922      0.000000        0.000000          0.403526   \n",
              "50%        0.479845      0.000000        0.493581          0.507087   \n",
              "75%        0.572225      0.000000        0.600044          0.619443   \n",
              "max        1.000000      1.000000        1.000000          1.000000   \n",
              "\n",
              "      forecast_discount_energy forecast_meter_rent_12m  \\\n",
              "count             11684.000000            11684.000000   \n",
              "mean                  0.033471                0.548000   \n",
              "std                   0.179853                0.206316   \n",
              "min                   0.000000                0.000000   \n",
              "25%                   0.000000                0.444604   \n",
              "50%                   0.000000                0.468270   \n",
              "75%                   0.000000                0.763313   \n",
              "max                   1.000000                1.000000   \n",
              "\n",
              "      forecast_price_energy_off_peak forecast_price_energy_peak  \\\n",
              "count                   11684.000000               11684.000000   \n",
              "mean                        0.375756                   0.260369   \n",
              "std                         0.163149                   0.249991   \n",
              "min                         0.000000                   0.000000   \n",
              "25%                         0.202028                   0.000000   \n",
              "50%                         0.428913                   0.429330   \n",
              "75%                         0.455826                   0.504355   \n",
              "max                         1.000000                   1.000000   \n",
              "\n",
              "      forecast_price_pow_off_peak       has_gas  ...   channel_sdd  \\\n",
              "count                11684.000000  11684.000000  ...  11684.000000   \n",
              "mean                     0.426785      0.181445  ...      0.000856   \n",
              "std                      0.113063      0.385403  ...      0.029244   \n",
              "min                      0.000000      0.000000  ...      0.000000   \n",
              "25%                      0.284903      0.000000  ...      0.000000   \n",
              "50%                      0.493869      0.000000  ...      0.000000   \n",
              "75%                      0.493869      0.000000  ...      0.000000   \n",
              "max                      1.000000      1.000000  ...      1.000000   \n",
              "\n",
              "        channel_usi origin_ewx    origin_kam    origin_ldk    origin_lxi  \\\n",
              "count  11684.000000    11684.0  11684.000000  11684.000000  11684.000000   \n",
              "mean       0.093033        0.0      0.295361      0.216279      0.483910   \n",
              "std        0.290491        0.0      0.456224      0.411724      0.499762   \n",
              "min        0.000000        0.0      0.000000      0.000000      0.000000   \n",
              "25%        0.000000        0.0      0.000000      0.000000      0.000000   \n",
              "50%        0.000000        0.0      0.000000      0.000000      0.000000   \n",
              "75%        0.000000        0.0      1.000000      0.000000      1.000000   \n",
              "max        1.000000        0.0      1.000000      1.000000      1.000000   \n",
              "\n",
              "         origin_usa mean_year_price_p1 mean_year_price_p2 mean_year_price_p3  \n",
              "count  11684.000000       11684.000000       11684.000000       11684.000000  \n",
              "mean       0.000171           0.437344           0.264353           0.368000  \n",
              "std        0.013083           0.096043           0.331787           0.462921  \n",
              "min        0.000000           0.000000           0.000000           0.000000  \n",
              "25%        0.000000           0.348167           0.000000           0.000000  \n",
              "50%        0.000000           0.474451           0.002315           0.000000  \n",
              "75%        0.000000           0.477381           0.669060           0.965061  \n",
              "max        1.000000           1.000000           1.000000           1.000000  \n",
              "\n",
              "[8 rows x 34 columns]"
            ],
            "text/html": [
              "\n",
              "  <div id=\"df-68058153-c00c-4771-aa75-43dccff3ea6e\">\n",
              "    <div class=\"colab-df-container\">\n",
              "      <div>\n",
              "<style scoped>\n",
              "    .dataframe tbody tr th:only-of-type {\n",
              "        vertical-align: middle;\n",
              "    }\n",
              "\n",
              "    .dataframe tbody tr th {\n",
              "        vertical-align: top;\n",
              "    }\n",
              "\n",
              "    .dataframe thead tr th {\n",
              "        text-align: left;\n",
              "    }\n",
              "</style>\n",
              "<table border=\"1\" class=\"dataframe\">\n",
              "  <thead>\n",
              "    <tr>\n",
              "      <th></th>\n",
              "      <th>cons_12m</th>\n",
              "      <th>cons_gas_12m</th>\n",
              "      <th>cons_last_month</th>\n",
              "      <th>forecast_cons_12m</th>\n",
              "      <th>forecast_discount_energy</th>\n",
              "      <th>forecast_meter_rent_12m</th>\n",
              "      <th>forecast_price_energy_off_peak</th>\n",
              "      <th>forecast_price_energy_peak</th>\n",
              "      <th>forecast_price_pow_off_peak</th>\n",
              "      <th>has_gas</th>\n",
              "      <th>...</th>\n",
              "      <th>channel_sdd</th>\n",
              "      <th>channel_usi</th>\n",
              "      <th>origin_ewx</th>\n",
              "      <th>origin_kam</th>\n",
              "      <th>origin_ldk</th>\n",
              "      <th>origin_lxi</th>\n",
              "      <th>origin_usa</th>\n",
              "      <th>mean_year_price_p1</th>\n",
              "      <th>mean_year_price_p2</th>\n",
              "      <th>mean_year_price_p3</th>\n",
              "    </tr>\n",
              "  </thead>\n",
              "  <tbody>\n",
              "    <tr>\n",
              "      <th>count</th>\n",
              "      <td>11684.000000</td>\n",
              "      <td>11684.000000</td>\n",
              "      <td>11684.000000</td>\n",
              "      <td>11684.000000</td>\n",
              "      <td>11684.000000</td>\n",
              "      <td>11684.000000</td>\n",
              "      <td>11684.000000</td>\n",
              "      <td>11684.000000</td>\n",
              "      <td>11684.000000</td>\n",
              "      <td>11684.000000</td>\n",
              "      <td>...</td>\n",
              "      <td>11684.000000</td>\n",
              "      <td>11684.000000</td>\n",
              "      <td>11684.0</td>\n",
              "      <td>11684.000000</td>\n",
              "      <td>11684.000000</td>\n",
              "      <td>11684.000000</td>\n",
              "      <td>11684.000000</td>\n",
              "      <td>11684.000000</td>\n",
              "      <td>11684.000000</td>\n",
              "      <td>11684.000000</td>\n",
              "    </tr>\n",
              "    <tr>\n",
              "      <th>mean</th>\n",
              "      <td>0.498924</td>\n",
              "      <td>0.118630</td>\n",
              "      <td>0.386279</td>\n",
              "      <td>0.507835</td>\n",
              "      <td>0.033471</td>\n",
              "      <td>0.548000</td>\n",
              "      <td>0.375756</td>\n",
              "      <td>0.260369</td>\n",
              "      <td>0.426785</td>\n",
              "      <td>0.181445</td>\n",
              "      <td>...</td>\n",
              "      <td>0.000856</td>\n",
              "      <td>0.093033</td>\n",
              "      <td>0.0</td>\n",
              "      <td>0.295361</td>\n",
              "      <td>0.216279</td>\n",
              "      <td>0.483910</td>\n",
              "      <td>0.000171</td>\n",
              "      <td>0.437344</td>\n",
              "      <td>0.264353</td>\n",
              "      <td>0.368000</td>\n",
              "    </tr>\n",
              "    <tr>\n",
              "      <th>std</th>\n",
              "      <td>0.160650</td>\n",
              "      <td>0.275051</td>\n",
              "      <td>0.300253</td>\n",
              "      <td>0.156548</td>\n",
              "      <td>0.179853</td>\n",
              "      <td>0.206316</td>\n",
              "      <td>0.163149</td>\n",
              "      <td>0.249991</td>\n",
              "      <td>0.113063</td>\n",
              "      <td>0.385403</td>\n",
              "      <td>...</td>\n",
              "      <td>0.029244</td>\n",
              "      <td>0.290491</td>\n",
              "      <td>0.0</td>\n",
              "      <td>0.456224</td>\n",
              "      <td>0.411724</td>\n",
              "      <td>0.499762</td>\n",
              "      <td>0.013083</td>\n",
              "      <td>0.096043</td>\n",
              "      <td>0.331787</td>\n",
              "      <td>0.462921</td>\n",
              "    </tr>\n",
              "    <tr>\n",
              "      <th>min</th>\n",
              "      <td>0.000000</td>\n",
              "      <td>0.000000</td>\n",
              "      <td>0.000000</td>\n",
              "      <td>0.000000</td>\n",
              "      <td>0.000000</td>\n",
              "      <td>0.000000</td>\n",
              "      <td>0.000000</td>\n",
              "      <td>0.000000</td>\n",
              "      <td>0.000000</td>\n",
              "      <td>0.000000</td>\n",
              "      <td>...</td>\n",
              "      <td>0.000000</td>\n",
              "      <td>0.000000</td>\n",
              "      <td>0.0</td>\n",
              "      <td>0.000000</td>\n",
              "      <td>0.000000</td>\n",
              "      <td>0.000000</td>\n",
              "      <td>0.000000</td>\n",
              "      <td>0.000000</td>\n",
              "      <td>0.000000</td>\n",
              "      <td>0.000000</td>\n",
              "    </tr>\n",
              "    <tr>\n",
              "      <th>25%</th>\n",
              "      <td>0.394922</td>\n",
              "      <td>0.000000</td>\n",
              "      <td>0.000000</td>\n",
              "      <td>0.403526</td>\n",
              "      <td>0.000000</td>\n",
              "      <td>0.444604</td>\n",
              "      <td>0.202028</td>\n",
              "      <td>0.000000</td>\n",
              "      <td>0.284903</td>\n",
              "      <td>0.000000</td>\n",
              "      <td>...</td>\n",
              "      <td>0.000000</td>\n",
              "      <td>0.000000</td>\n",
              "      <td>0.0</td>\n",
              "      <td>0.000000</td>\n",
              "      <td>0.000000</td>\n",
              "      <td>0.000000</td>\n",
              "      <td>0.000000</td>\n",
              "      <td>0.348167</td>\n",
              "      <td>0.000000</td>\n",
              "      <td>0.000000</td>\n",
              "    </tr>\n",
              "    <tr>\n",
              "      <th>50%</th>\n",
              "      <td>0.479845</td>\n",
              "      <td>0.000000</td>\n",
              "      <td>0.493581</td>\n",
              "      <td>0.507087</td>\n",
              "      <td>0.000000</td>\n",
              "      <td>0.468270</td>\n",
              "      <td>0.428913</td>\n",
              "      <td>0.429330</td>\n",
              "      <td>0.493869</td>\n",
              "      <td>0.000000</td>\n",
              "      <td>...</td>\n",
              "      <td>0.000000</td>\n",
              "      <td>0.000000</td>\n",
              "      <td>0.0</td>\n",
              "      <td>0.000000</td>\n",
              "      <td>0.000000</td>\n",
              "      <td>0.000000</td>\n",
              "      <td>0.000000</td>\n",
              "      <td>0.474451</td>\n",
              "      <td>0.002315</td>\n",
              "      <td>0.000000</td>\n",
              "    </tr>\n",
              "    <tr>\n",
              "      <th>75%</th>\n",
              "      <td>0.572225</td>\n",
              "      <td>0.000000</td>\n",
              "      <td>0.600044</td>\n",
              "      <td>0.619443</td>\n",
              "      <td>0.000000</td>\n",
              "      <td>0.763313</td>\n",
              "      <td>0.455826</td>\n",
              "      <td>0.504355</td>\n",
              "      <td>0.493869</td>\n",
              "      <td>0.000000</td>\n",
              "      <td>...</td>\n",
              "      <td>0.000000</td>\n",
              "      <td>0.000000</td>\n",
              "      <td>0.0</td>\n",
              "      <td>1.000000</td>\n",
              "      <td>0.000000</td>\n",
              "      <td>1.000000</td>\n",
              "      <td>0.000000</td>\n",
              "      <td>0.477381</td>\n",
              "      <td>0.669060</td>\n",
              "      <td>0.965061</td>\n",
              "    </tr>\n",
              "    <tr>\n",
              "      <th>max</th>\n",
              "      <td>1.000000</td>\n",
              "      <td>1.000000</td>\n",
              "      <td>1.000000</td>\n",
              "      <td>1.000000</td>\n",
              "      <td>1.000000</td>\n",
              "      <td>1.000000</td>\n",
              "      <td>1.000000</td>\n",
              "      <td>1.000000</td>\n",
              "      <td>1.000000</td>\n",
              "      <td>1.000000</td>\n",
              "      <td>...</td>\n",
              "      <td>1.000000</td>\n",
              "      <td>1.000000</td>\n",
              "      <td>0.0</td>\n",
              "      <td>1.000000</td>\n",
              "      <td>1.000000</td>\n",
              "      <td>1.000000</td>\n",
              "      <td>1.000000</td>\n",
              "      <td>1.000000</td>\n",
              "      <td>1.000000</td>\n",
              "      <td>1.000000</td>\n",
              "    </tr>\n",
              "  </tbody>\n",
              "</table>\n",
              "<p>8 rows × 34 columns</p>\n",
              "</div>\n",
              "      <button class=\"colab-df-convert\" onclick=\"convertToInteractive('df-68058153-c00c-4771-aa75-43dccff3ea6e')\"\n",
              "              title=\"Convert this dataframe to an interactive table.\"\n",
              "              style=\"display:none;\">\n",
              "        \n",
              "  <svg xmlns=\"http://www.w3.org/2000/svg\" height=\"24px\"viewBox=\"0 0 24 24\"\n",
              "       width=\"24px\">\n",
              "    <path d=\"M0 0h24v24H0V0z\" fill=\"none\"/>\n",
              "    <path d=\"M18.56 5.44l.94 2.06.94-2.06 2.06-.94-2.06-.94-.94-2.06-.94 2.06-2.06.94zm-11 1L8.5 8.5l.94-2.06 2.06-.94-2.06-.94L8.5 2.5l-.94 2.06-2.06.94zm10 10l.94 2.06.94-2.06 2.06-.94-2.06-.94-.94-2.06-.94 2.06-2.06.94z\"/><path d=\"M17.41 7.96l-1.37-1.37c-.4-.4-.92-.59-1.43-.59-.52 0-1.04.2-1.43.59L10.3 9.45l-7.72 7.72c-.78.78-.78 2.05 0 2.83L4 21.41c.39.39.9.59 1.41.59.51 0 1.02-.2 1.41-.59l7.78-7.78 2.81-2.81c.8-.78.8-2.07 0-2.86zM5.41 20L4 18.59l7.72-7.72 1.47 1.35L5.41 20z\"/>\n",
              "  </svg>\n",
              "      </button>\n",
              "      \n",
              "  <style>\n",
              "    .colab-df-container {\n",
              "      display:flex;\n",
              "      flex-wrap:wrap;\n",
              "      gap: 12px;\n",
              "    }\n",
              "\n",
              "    .colab-df-convert {\n",
              "      background-color: #E8F0FE;\n",
              "      border: none;\n",
              "      border-radius: 50%;\n",
              "      cursor: pointer;\n",
              "      display: none;\n",
              "      fill: #1967D2;\n",
              "      height: 32px;\n",
              "      padding: 0 0 0 0;\n",
              "      width: 32px;\n",
              "    }\n",
              "\n",
              "    .colab-df-convert:hover {\n",
              "      background-color: #E2EBFA;\n",
              "      box-shadow: 0px 1px 2px rgba(60, 64, 67, 0.3), 0px 1px 3px 1px rgba(60, 64, 67, 0.15);\n",
              "      fill: #174EA6;\n",
              "    }\n",
              "\n",
              "    [theme=dark] .colab-df-convert {\n",
              "      background-color: #3B4455;\n",
              "      fill: #D2E3FC;\n",
              "    }\n",
              "\n",
              "    [theme=dark] .colab-df-convert:hover {\n",
              "      background-color: #434B5C;\n",
              "      box-shadow: 0px 1px 3px 1px rgba(0, 0, 0, 0.15);\n",
              "      filter: drop-shadow(0px 1px 2px rgba(0, 0, 0, 0.3));\n",
              "      fill: #FFFFFF;\n",
              "    }\n",
              "  </style>\n",
              "\n",
              "      <script>\n",
              "        const buttonEl =\n",
              "          document.querySelector('#df-68058153-c00c-4771-aa75-43dccff3ea6e button.colab-df-convert');\n",
              "        buttonEl.style.display =\n",
              "          google.colab.kernel.accessAllowed ? 'block' : 'none';\n",
              "\n",
              "        async function convertToInteractive(key) {\n",
              "          const element = document.querySelector('#df-68058153-c00c-4771-aa75-43dccff3ea6e');\n",
              "          const dataTable =\n",
              "            await google.colab.kernel.invokeFunction('convertToInteractive',\n",
              "                                                     [key], {});\n",
              "          if (!dataTable) return;\n",
              "\n",
              "          const docLinkHtml = 'Like what you see? Visit the ' +\n",
              "            '<a target=\"_blank\" href=https://colab.research.google.com/notebooks/data_table.ipynb>data table notebook</a>'\n",
              "            + ' to learn more about interactive tables.';\n",
              "          element.innerHTML = '';\n",
              "          dataTable['output_type'] = 'display_data';\n",
              "          await google.colab.output.renderOutput(dataTable, element);\n",
              "          const docLink = document.createElement('div');\n",
              "          docLink.innerHTML = docLinkHtml;\n",
              "          element.appendChild(docLink);\n",
              "        }\n",
              "      </script>\n",
              "    </div>\n",
              "  </div>\n",
              "  "
            ]
          },
          "metadata": {},
          "execution_count": 15
        }
      ]
    },
    {
      "cell_type": "markdown",
      "source": [
        "https://scikit-learn.org/stable/modules/generated/sklearn.linear_model.LogisticRegression.html"
      ],
      "metadata": {
        "id": "I2qI-BuxA6B_"
      }
    },
    {
      "cell_type": "code",
      "source": [
        "# train a logistic regression model on the training set\n",
        "from sklearn.linear_model import LogisticRegression\n",
        "\n",
        "\n",
        "# instantiate the model\n",
        "logreg = LogisticRegression(solver='liblinear', random_state=0)\n",
        "\n",
        "\n",
        "# fit the model\n",
        "logreg.fit(X_train, y_train)"
      ],
      "metadata": {
        "colab": {
          "base_uri": "https://localhost:8080/"
        },
        "id": "wDKc2qGF_-7b",
        "outputId": "091a049d-d15a-4715-cf1a-97dc57aec51a"
      },
      "execution_count": 16,
      "outputs": [
        {
          "output_type": "execute_result",
          "data": {
            "text/plain": [
              "LogisticRegression(random_state=0, solver='liblinear')"
            ]
          },
          "metadata": {},
          "execution_count": 16
        }
      ]
    },
    {
      "cell_type": "code",
      "source": [
        "y_pred_test = logreg.predict(X_test)\n",
        "\n",
        "y_pred_test"
      ],
      "metadata": {
        "colab": {
          "base_uri": "https://localhost:8080/"
        },
        "id": "A3iZ4JeNCJS6",
        "outputId": "359917df-15e2-4cce-e092-2f1fa4b543ba"
      },
      "execution_count": 17,
      "outputs": [
        {
          "output_type": "execute_result",
          "data": {
            "text/plain": [
              "array([0, 0, 0, ..., 0, 0, 0])"
            ]
          },
          "metadata": {},
          "execution_count": 17
        }
      ]
    },
    {
      "cell_type": "code",
      "source": [
        "negative = 0\n",
        "positive = 0\n",
        "for pred in y_pred_test:\n",
        "  if pred == 0:\n",
        "    negative = negative +1 \n",
        "  else:\n",
        "    positive = positive +1 \n",
        "\n",
        "print(\"Non churn cases: {}\".format(negative))\n",
        "print(\"Churn cases: {}\".format(positive))"
      ],
      "metadata": {
        "colab": {
          "base_uri": "https://localhost:8080/"
        },
        "id": "9-pYzN97pKit",
        "outputId": "7d34614f-6106-4754-d2a5-2b1d4aba1dcf"
      },
      "execution_count": 21,
      "outputs": [
        {
          "output_type": "stream",
          "name": "stdout",
          "text": [
            "Non churn cases: 2921\n",
            "Churn cases: 1\n"
          ]
        }
      ]
    },
    {
      "cell_type": "markdown",
      "source": [
        "Although accuracy score is not a right metrics to evaluate the model in our case. This is because our churn and non churn data is not balanced. The percentage of churn out of total is just 10%. It will always look good with accuracy score. "
      ],
      "metadata": {
        "id": "nWo3NRWnDp6O"
      }
    },
    {
      "cell_type": "code",
      "source": [
        "from sklearn.metrics import accuracy_score\n",
        "\n",
        "print('Model accuracy score: {0:0.4f}'. format(accuracy_score(y_test, y_pred_test)))"
      ],
      "metadata": {
        "colab": {
          "base_uri": "https://localhost:8080/"
        },
        "id": "u_y1j5EGCNSj",
        "outputId": "94f0eefd-75ad-4aec-ffad-eff156df72e1"
      },
      "execution_count": 22,
      "outputs": [
        {
          "output_type": "stream",
          "name": "stdout",
          "text": [
            "Model accuracy score: 0.9141\n"
          ]
        }
      ]
    },
    {
      "cell_type": "markdown",
      "source": [
        "Checking the train-set and test-set accuracy. Now, I will compare the train-set and test-set accuracy to check for overfitting.\n",
        "\n",
        "If these two values are quite comparable (train test and test set). So, there will be no question of overfitting.\n",
        "\n",
        "In Logistic Regression, we use default value of C = 1. It provides good performance with approximately 85% accuracy on both the training and the test set. But if the model performance on both the training and test set are very comparable. It will likely be the case of underfitting.\n",
        "\n",
        "I will increase C and fit a more flexible model.Smaller values of C specify stronger regularization. Whereas larger values specify weaker regularization. "
      ],
      "metadata": {
        "id": "k9Do3YgLE7mL"
      }
    },
    {
      "cell_type": "code",
      "source": [
        "y_pred_train = logreg.predict(X_train)\n",
        "print('Training-set accuracy score: {0:0.4f}'. format(accuracy_score(y_train, y_pred_train)))\n",
        "print('Model accuracy score: {0:0.4f}'. format(accuracy_score(y_test, y_pred_test)))"
      ],
      "metadata": {
        "colab": {
          "base_uri": "https://localhost:8080/"
        },
        "id": "y7DjRx0kCXPs",
        "outputId": "56c1f8c0-9ffb-407f-85df-6cb03060dcc1"
      },
      "execution_count": 23,
      "outputs": [
        {
          "output_type": "stream",
          "name": "stdout",
          "text": [
            "Training-set accuracy score: 0.9001\n",
            "Model accuracy score: 0.9141\n"
          ]
        }
      ]
    },
    {
      "cell_type": "markdown",
      "source": [
        "Now lets make the regularization relaxed and see whether the condition remain the same for test set and training set. If the efficiency remains high on training and testing dataset then we cannot trust the model much as this model is underfitting because the data for churn is quite biased. We may be generating a biased database. "
      ],
      "metadata": {
        "id": "Mkaid6a-GyZB"
      }
    },
    {
      "cell_type": "code",
      "source": [
        "# fit the Logsitic Regression model with C=100\n",
        "\n",
        "# instantiate the model\n",
        "logreg100 = LogisticRegression(C=100, solver='liblinear', random_state=0)\n",
        "\n",
        "\n",
        "# fit the model\n",
        "logreg100.fit(X_train, y_train)"
      ],
      "metadata": {
        "colab": {
          "base_uri": "https://localhost:8080/"
        },
        "id": "SM0A46bXGm0T",
        "outputId": "f06056af-ed62-4516-c99c-0caab235fa18"
      },
      "execution_count": 24,
      "outputs": [
        {
          "output_type": "execute_result",
          "data": {
            "text/plain": [
              "LogisticRegression(C=100, random_state=0, solver='liblinear')"
            ]
          },
          "metadata": {},
          "execution_count": 24
        }
      ]
    },
    {
      "cell_type": "code",
      "source": [
        "# print the scores on training and test set\n",
        "\n",
        "print('Training set score: {:.4f}'.format(logreg100.score(X_train, y_train)))\n",
        "\n",
        "print('Test set score: {:.4f}'.format(logreg100.score(X_test, y_test)))"
      ],
      "metadata": {
        "colab": {
          "base_uri": "https://localhost:8080/"
        },
        "id": "3LHPyW7SHsee",
        "outputId": "e877f305-e3b0-4588-cd32-251dce3e9c61"
      },
      "execution_count": 25,
      "outputs": [
        {
          "output_type": "stream",
          "name": "stdout",
          "text": [
            "Training set score: 0.8999\n",
            "Test set score: 0.9134\n"
          ]
        }
      ]
    },
    {
      "cell_type": "markdown",
      "source": [
        "We can see that, C=100 results in higher test set accuracy and also a slightly decreased training set accuracy. So, we can conclude that a more complex model should perform better. Lets investigate with C = 0.001. There is no change with regularization owing to a biased data that is there and hence we should move towards more complex model to address the problem. "
      ],
      "metadata": {
        "id": "7VRPRk7ZHyer"
      }
    },
    {
      "cell_type": "code",
      "source": [
        "# fit the Logsitic Regression model with C=001\n",
        "\n",
        "# instantiate the model\n",
        "logreg001 = LogisticRegression(C=0.01, solver='liblinear', random_state=0)\n",
        "\n",
        "\n",
        "# fit the model\n",
        "logreg001.fit(X_train, y_train)"
      ],
      "metadata": {
        "colab": {
          "base_uri": "https://localhost:8080/"
        },
        "id": "fxYeLPANHuh-",
        "outputId": "7c2ca537-a6df-44cf-bfd6-4558fa2b5f5c"
      },
      "execution_count": 26,
      "outputs": [
        {
          "output_type": "execute_result",
          "data": {
            "text/plain": [
              "LogisticRegression(C=0.01, random_state=0, solver='liblinear')"
            ]
          },
          "metadata": {},
          "execution_count": 26
        }
      ]
    },
    {
      "cell_type": "code",
      "source": [
        "# print the scores on training and test set\n",
        "\n",
        "print('Training set score: {:.4f}'.format(logreg001.score(X_train, y_train)))\n",
        "\n",
        "print('Test set score: {:.4f}'.format(logreg001.score(X_test, y_test)))"
      ],
      "metadata": {
        "colab": {
          "base_uri": "https://localhost:8080/"
        },
        "id": "gCMN7-SMIAtc",
        "outputId": "2e6e30d1-49e9-43e3-8675-c5a187e3ce68"
      },
      "execution_count": 27,
      "outputs": [
        {
          "output_type": "stream",
          "name": "stdout",
          "text": [
            "Training set score: 0.8999\n",
            "Test set score: 0.9144\n"
          ]
        }
      ]
    },
    {
      "cell_type": "markdown",
      "source": [
        "Compare model accuracy with null accuracy\n",
        "\n",
        "So, the model accuracy is 0.9144. But, we cannot say that our model is very good based on the above accuracy. We must compare it with the null accuracy. Null accuracy is the accuracy that could be achieved by always predicting the most frequent class.\n",
        "\n",
        "So, we should first check the class distribution in the test set."
      ],
      "metadata": {
        "id": "6QeXi0qDJLUt"
      }
    },
    {
      "cell_type": "code",
      "source": [
        "# check class distribution in test set\n",
        "\n",
        "y_test.value_counts()"
      ],
      "metadata": {
        "colab": {
          "base_uri": "https://localhost:8080/"
        },
        "id": "SIzaokEZJK40",
        "outputId": "7f0de3e4-e043-404e-9992-d87bf895f1e3"
      },
      "execution_count": 28,
      "outputs": [
        {
          "output_type": "execute_result",
          "data": {
            "text/plain": [
              "0    2672\n",
              "1     250\n",
              "Name: churn, dtype: int64"
            ]
          },
          "metadata": {},
          "execution_count": 28
        }
      ]
    },
    {
      "cell_type": "code",
      "source": [
        "# check null accuracy score\n",
        "\n",
        "null_accuracy = (2672/(2672+250))\n",
        "\n",
        "print('Null accuracy score: {0:0.4f}'. format(null_accuracy))"
      ],
      "metadata": {
        "colab": {
          "base_uri": "https://localhost:8080/"
        },
        "id": "X7VmUxJ7ICr7",
        "outputId": "158ed6c5-55f2-46f8-9941-c29134f8688a"
      },
      "execution_count": 29,
      "outputs": [
        {
          "output_type": "stream",
          "name": "stdout",
          "text": [
            "Null accuracy score: 0.9144\n"
          ]
        }
      ]
    },
    {
      "cell_type": "markdown",
      "source": [
        "As we can see now that our null accuracy is equivalent to our test set accuracy and train set accuracy. This is a clear indication that our model is getting biased and not performing a very good job. In this case lets move from accuracy metrics towards confusion metrics. "
      ],
      "metadata": {
        "id": "AUkFVRAhJgOt"
      }
    },
    {
      "cell_type": "code",
      "source": [
        "# Print the Confusion Matrix and slice it into four pieces\n",
        "\n",
        "from sklearn.metrics import confusion_matrix\n",
        "\n",
        "cm = confusion_matrix(y_test, y_pred_test)\n",
        "\n",
        "print('Confusion matrix\\n\\n', cm)\n",
        "\n",
        "print('\\nTrue Positives(TP) = ', cm[1,1])\n",
        "\n",
        "print('\\nTrue Negatives(TN) = ', cm[0,0])\n",
        "\n",
        "print('\\nFalse Positives(FP) = ', cm[1,0])\n",
        "\n",
        "print('\\nFalse Negatives(FN) = ', cm[0,1])"
      ],
      "metadata": {
        "colab": {
          "base_uri": "https://localhost:8080/"
        },
        "id": "GITbn-BqJcLh",
        "outputId": "d99ecc2c-ffee-45d8-9d7c-067299732a73"
      },
      "execution_count": 35,
      "outputs": [
        {
          "output_type": "stream",
          "name": "stdout",
          "text": [
            "Confusion matrix\n",
            "\n",
            " [[2671    1]\n",
            " [ 250    0]]\n",
            "\n",
            "True Positives(TP) =  0\n",
            "\n",
            "True Negatives(TN) =  2671\n",
            "\n",
            "False Positives(FP) =  250\n",
            "\n",
            "False Negatives(FN) =  1\n"
          ]
        }
      ]
    },
    {
      "cell_type": "markdown",
      "source": [
        "Now from the confusion metrics we can clearly see that True Positive Rate is nearly equal to null accurcay. The distribution of X test and X train nearly remians the same. "
      ],
      "metadata": {
        "id": "qHNX4FGGJ76d"
      }
    },
    {
      "cell_type": "code",
      "source": [
        "# visualize confusion matrix with seaborn heatmap\n",
        "\n",
        "cm_matrix = pd.DataFrame(data=cm, columns=['Predict Negative:0', 'Predict Positive:1'], \n",
        "                                 index=['Actual Negative:0', 'Actual Positive:1'])\n",
        "\n",
        "sns.heatmap(cm_matrix, annot=True, fmt='d', cmap='YlGnBu')"
      ],
      "metadata": {
        "colab": {
          "base_uri": "https://localhost:8080/",
          "height": 285
        },
        "id": "j2-JeOH4J4On",
        "outputId": "339e41b0-9ab8-47ec-d10e-cdb468d4212c"
      },
      "execution_count": 40,
      "outputs": [
        {
          "output_type": "execute_result",
          "data": {
            "text/plain": [
              "<matplotlib.axes._subplots.AxesSubplot at 0x7fd47e756fd0>"
            ]
          },
          "metadata": {},
          "execution_count": 40
        },
        {
          "output_type": "display_data",
          "data": {
            "text/plain": [
              "<Figure size 432x288 with 2 Axes>"
            ],
            "image/png": "[encoded data removed]"
          },
          "metadata": {}
        }
      ]
    },
    {
      "cell_type": "markdown",
      "source": [
        "Classification Report"
      ],
      "metadata": {
        "id": "LbkN_wgAKeQp"
      }
    },
    {
      "cell_type": "code",
      "source": [
        "# print classification accuracy\n",
        "TP = cm[1,1]\n",
        "TN = cm[0,0]\n",
        "FP = cm[1,0]\n",
        "FN = cm[0,1]\n",
        "\n",
        "classification_accuracy = (TP + TN) / float(TP + TN + FP + FN)\n",
        "\n",
        "print('Classification accuracy : {0:0.4f}'.format(classification_accuracy))"
      ],
      "metadata": {
        "colab": {
          "base_uri": "https://localhost:8080/"
        },
        "id": "emy0RVNoKdaV",
        "outputId": "626f8284-585e-4311-f9ce-2eea604c8658"
      },
      "execution_count": 41,
      "outputs": [
        {
          "output_type": "stream",
          "name": "stdout",
          "text": [
            "Classification accuracy : 0.9141\n"
          ]
        }
      ]
    },
    {
      "cell_type": "code",
      "source": [
        "# print precision score\n",
        "\n",
        "precision = TP / float(TP + FP)\n",
        "\n",
        "\n",
        "print('Precision : {0:0.4f}'.format(precision))"
      ],
      "metadata": {
        "colab": {
          "base_uri": "https://localhost:8080/"
        },
        "id": "dw2kPJ76LLe9",
        "outputId": "a0bac535-5ba2-43da-e210-dffaa2aa9fb4"
      },
      "execution_count": 42,
      "outputs": [
        {
          "output_type": "stream",
          "name": "stdout",
          "text": [
            "Precision : 0.0000\n"
          ]
        }
      ]
    },
    {
      "cell_type": "code",
      "source": [
        "recall = TP / float(TP + FN)\n",
        "\n",
        "print('Recall or Sensitivity : {0:0.4f}'.format(recall))"
      ],
      "metadata": {
        "colab": {
          "base_uri": "https://localhost:8080/"
        },
        "id": "C_36Pb7-LM3H",
        "outputId": "16c2c7c9-59eb-4d6a-a072-67c9e4b5b054"
      },
      "execution_count": 43,
      "outputs": [
        {
          "output_type": "stream",
          "name": "stdout",
          "text": [
            "Recall or Sensitivity : 0.0000\n"
          ]
        }
      ]
    },
    {
      "cell_type": "code",
      "source": [
        "true_positive_rate = TP / float(TP + FN)\n",
        "\n",
        "\n",
        "print('True Positive Rate : {0:0.4f}'.format(true_positive_rate))"
      ],
      "metadata": {
        "colab": {
          "base_uri": "https://localhost:8080/"
        },
        "id": "qI8sZNoaLPlH",
        "outputId": "2c234bc5-2682-41b8-86a2-ca3840636d0e"
      },
      "execution_count": 44,
      "outputs": [
        {
          "output_type": "stream",
          "name": "stdout",
          "text": [
            "True Positive Rate : 0.0000\n"
          ]
        }
      ]
    },
    {
      "cell_type": "code",
      "source": [
        "false_positive_rate = FP / float(FP + TN)\n",
        "\n",
        "\n",
        "print('False Positive Rate : {0:0.4f}'.format(false_positive_rate))"
      ],
      "metadata": {
        "colab": {
          "base_uri": "https://localhost:8080/"
        },
        "id": "_1H2Ajw2LSaP",
        "outputId": "3df41aa7-bc17-4dfd-890f-4f984fcf217d"
      },
      "execution_count": 45,
      "outputs": [
        {
          "output_type": "stream",
          "name": "stdout",
          "text": [
            "False Positive Rate : 0.0856\n"
          ]
        }
      ]
    },
    {
      "cell_type": "markdown",
      "source": [
        "badHaving a look at precision and recall we can say that model is doing a great job. But again the point of concern remains that the split has been a biased one. As we can see that our test split contained just 1 non churn candidate and other churn candidates. We have a high false positive rate as we had only one non churn candidate which was predicted wrongly. "
      ],
      "metadata": {
        "id": "vpAnd1LXKxAp"
      }
    },
    {
      "cell_type": "markdown",
      "source": [
        "AUC ROC Curve"
      ],
      "metadata": {
        "id": "PJCJ6YWKLqeD"
      }
    },
    {
      "cell_type": "code",
      "source": [
        "# compute ROC AUC\n",
        "\n",
        "from sklearn.metrics import roc_auc_score\n",
        "\n",
        "y_pred1 = logreg.predict_proba(X_test)[:,1]\n",
        "\n",
        "ROC_AUC = roc_auc_score(y_test, y_pred1)\n",
        "\n",
        "print('ROC AUC : {:.4f}'.format(ROC_AUC))"
      ],
      "metadata": {
        "colab": {
          "base_uri": "https://localhost:8080/"
        },
        "id": "FyhMTStQKweS",
        "outputId": "6243dc2c-c69d-4e2b-cfc3-4e37edcc18b1"
      },
      "execution_count": 46,
      "outputs": [
        {
          "output_type": "stream",
          "name": "stdout",
          "text": [
            "ROC AUC : 0.6265\n"
          ]
        }
      ]
    },
    {
      "cell_type": "markdown",
      "source": [
        "Now from ROC AUC score we can understand that our classifier is not that good as well, but its not worth rejecting. ROC AUC score near to 1 suggest the perfect classifier and below 0.5 suggest a bad classifier. Anything above 0.5 is acceptable but as our classifier was looking nearly perfect from the above metrics. It fails to satisfy the same degree with ROC AUC metrics. "
      ],
      "metadata": {
        "id": "m8gGLPQyNLkz"
      }
    },
    {
      "cell_type": "markdown",
      "source": [
        "As we know our train set has been biased lets use cross validation to evaluate our metrics of the model. "
      ],
      "metadata": {
        "id": "FgvrUwqANtNH"
      }
    },
    {
      "cell_type": "code",
      "source": [
        "# calculate cross-validated ROC AUC \n",
        "\n",
        "from sklearn.model_selection import cross_val_score\n",
        "\n",
        "Cross_validated_ROC_AUC = cross_val_score(logreg, X_train, y_train, cv=5, scoring='roc_auc').mean()\n",
        "\n",
        "print('Cross validated ROC AUC : {:.4f}'.format(Cross_validated_ROC_AUC))"
      ],
      "metadata": {
        "colab": {
          "base_uri": "https://localhost:8080/"
        },
        "id": "6ksEUclVKmbQ",
        "outputId": "bed832f0-035a-42e2-9977-1d178c59978c"
      },
      "execution_count": 47,
      "outputs": [
        {
          "output_type": "stream",
          "name": "stdout",
          "text": [
            "Cross validated ROC AUC : 0.6462\n"
          ]
        }
      ]
    },
    {
      "cell_type": "markdown",
      "source": [
        "K fold cross validation "
      ],
      "metadata": {
        "id": "AEzfR1M4N-DZ"
      }
    },
    {
      "cell_type": "markdown",
      "source": [
        "Accuracy is not a very strong parameter to judge the performance because the churn data is biased and not balanced. "
      ],
      "metadata": {
        "id": "GcP0rdUZfqpk"
      }
    },
    {
      "cell_type": "code",
      "source": [
        "# Applying 10-Fold Cross Validation\n",
        "\n",
        "from sklearn.model_selection import cross_val_score\n",
        "\n",
        "scores = cross_val_score(logreg, X_train, y_train, cv = 10, scoring='accuracy')\n",
        "\n",
        "print('Cross-validation scores:{}'.format(scores))"
      ],
      "metadata": {
        "colab": {
          "base_uri": "https://localhost:8080/"
        },
        "id": "y2ikWFZ9N5nc",
        "outputId": "3dc9fed4-f467-4845-c75e-5a72f83ec7b2"
      },
      "execution_count": 48,
      "outputs": [
        {
          "output_type": "stream",
          "name": "stdout",
          "text": [
            "Cross-validation scores:[0.89991446 0.89991446 0.89991446 0.90076989 0.90068493 0.89982877\n",
            " 0.89982877 0.89982877 0.89982877 0.89982877]\n"
          ]
        }
      ]
    },
    {
      "cell_type": "markdown",
      "source": [
        "Hyperparameter tuning of the model "
      ],
      "metadata": {
        "id": "mhLZbQf1OIgT"
      }
    },
    {
      "cell_type": "markdown",
      "source": [
        "https://www.youtube.com/watch?v=355u2bDqB7c"
      ],
      "metadata": {
        "id": "LR3QoKbWnxCe"
      }
    },
    {
      "cell_type": "code",
      "source": [
        "from sklearn.model_selection import GridSearchCV\n",
        "\n",
        "\n",
        "parameters = [{'penalty':['l1','l2']}, \n",
        "              {'C':[1, 10, 100, 1000]}]\n",
        "\n",
        "\n",
        "\n",
        "grid_search = GridSearchCV(estimator = logreg,  \n",
        "                           param_grid = parameters,\n",
        "                           scoring = 'accuracy',\n",
        "                           cv = 5,\n",
        "                           verbose=0)\n",
        "\n",
        "\n",
        "grid_search.fit(X_train, y_train)"
      ],
      "metadata": {
        "colab": {
          "base_uri": "https://localhost:8080/"
        },
        "id": "hUaUqv6TOA8d",
        "outputId": "18a2a32c-ffbf-48a4-a264-0b6ed19b12a3"
      },
      "execution_count": 49,
      "outputs": [
        {
          "output_type": "execute_result",
          "data": {
            "text/plain": [
              "GridSearchCV(cv=5,\n",
              "             estimator=LogisticRegression(random_state=0, solver='liblinear'),\n",
              "             param_grid=[{'penalty': ['l1', 'l2']}, {'C': [1, 10, 100, 1000]}],\n",
              "             scoring='accuracy')"
            ]
          },
          "metadata": {},
          "execution_count": 49
        }
      ]
    },
    {
      "cell_type": "code",
      "source": [
        "#examine the best model\n",
        "\n",
        "# best score achieved during the GridSearchCV\n",
        "print('GridSearch CV best score : {:.4f}\\n\\n'.format(grid_search.best_score_))\n",
        "\n",
        "# print parameters that give the best results\n",
        "print('Parameters that give the best results :','\\n\\n', (grid_search.best_params_))\n",
        "\n",
        "# print estimator that was chosen by the GridSearch\n",
        "print('\\n\\nEstimator that was chosen by the search :','\\n\\n', (grid_search.best_estimator_))"
      ],
      "metadata": {
        "colab": {
          "base_uri": "https://localhost:8080/"
        },
        "id": "CynJApC5k4ZD",
        "outputId": "d5ea58b4-e3a3-4f35-81fb-ca1a9c4dec9f"
      },
      "execution_count": 50,
      "outputs": [
        {
          "output_type": "stream",
          "name": "stdout",
          "text": [
            "GridSearch CV best score : 0.9000\n",
            "\n",
            "\n",
            "Parameters that give the best results : \n",
            "\n",
            " {'penalty': 'l1'}\n",
            "\n",
            "\n",
            "Estimator that was chosen by the search : \n",
            "\n",
            " LogisticRegression(penalty='l1', random_state=0, solver='liblinear')\n"
          ]
        }
      ]
    },
    {
      "cell_type": "code",
      "source": [
        "# calculate GridSearch CV score on test set\n",
        "\n",
        "print('GridSearch CV score on test set: {0:0.4f}'.format(grid_search.score(X_test, y_test)))"
      ],
      "metadata": {
        "colab": {
          "base_uri": "https://localhost:8080/"
        },
        "id": "2DfICPdKlEFs",
        "outputId": "6f41a0cc-ca5b-4ae7-fed7-a2184ddbaa88"
      },
      "execution_count": 51,
      "outputs": [
        {
          "output_type": "stream",
          "name": "stdout",
          "text": [
            "GridSearch CV score on test set: 0.9141\n"
          ]
        }
      ]
    },
    {
      "cell_type": "code",
      "source": [
        ""
      ],
      "metadata": {
        "id": "IO6RO0TslIvl"
      },
      "execution_count": null,
      "outputs": []
    }
  ]
}